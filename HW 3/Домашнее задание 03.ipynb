{
 "cells": [
  {
   "cell_type": "markdown",
   "metadata": {},
   "source": [
    "# Задание 03 \n",
    "## Конфигурационная модель"
   ]
  },
  {
   "cell_type": "code",
   "execution_count": 1,
   "metadata": {
    "collapsed": true
   },
   "outputs": [],
   "source": [
    "import numpy as np\n",
    "import matplotlib.pyplot as plt\n",
    "\n",
    "\n",
    "%matplotlib inline\n",
    "import networkx as nx"
   ]
  },
  {
   "cell_type": "markdown",
   "metadata": {},
   "source": [
    "Конфигурационная модель - генератор случайной сети с заданным распределением степеней вершин. Алгоритм заключается в следующих шагах: \n",
    "* каждой  вершине $i$ графа  присваивается $k_i$ «полуребер»;\n",
    "* из   последовательности таких «полуребер» случайным образом выбирается пара и соответствующие вершины $i$ и $j$ соединяются ребром; \n",
    "* предыдущий  шаг  повторяется  до  тех пор,  все ребра не будут задействованы.\n",
    "![](config01.png)\n"
   ]
  },
  {
   "cell_type": "code",
   "execution_count": 2,
   "metadata": {},
   "outputs": [
    {
     "data": {
      "image/png": "[encoded data removed]",
      "text/plain": [
       "<Figure size 864x576 with 4 Axes>"
      ]
     },
     "metadata": {},
     "output_type": "display_data"
    }
   ],
   "source": [
    "degrees=[3,2,2,1]\n",
    "\n",
    "fig, axes = plt.subplots(nrows=2, ncols=2,figsize=(12, 8))\n",
    "\n",
    "plt.subplot(221)\n",
    "G=nx.configuration_model(degrees,seed=5)\n",
    "nx.draw(G,nx.spring_layout(G,iterations=10),node_size=500,with_labels=True)\n",
    "\n",
    "plt.subplot(222)\n",
    "G=nx.configuration_model(degrees,seed=10)\n",
    "nx.draw(G,nx.spring_layout(G,iterations=10),node_size=500,with_labels=True)\n",
    "\n",
    "plt.subplot(223)\n",
    "G=nx.configuration_model(degrees,seed=28)\n",
    "nx.draw(G,nx.spring_layout(G,iterations=10),node_size=500,with_labels=True)\n",
    "\n",
    "plt.subplot(224)\n",
    "G=nx.configuration_model(degrees,seed=115)\n",
    "nx.draw(G,nx.spring_layout(G,iterations=10),node_size=500,with_labels=True)\n"
   ]
  },
  {
   "cell_type": "code",
   "execution_count": 3,
   "metadata": {},
   "outputs": [
    {
     "name": "stdout",
     "output_type": "stream",
     "text": [
      "[(0, 0), (0, 2), (1, 3), (1, 2)]\n",
      "[(0, 0)]\n"
     ]
    }
   ],
   "source": [
    "print(list(G.edges()))\n",
    "print(list(G.selfloop_edges())) #все петли"
   ]
  },
  {
   "cell_type": "markdown",
   "metadata": {},
   "source": [
    "### Топология конфигурационной сети:\n",
    "Ожидаемое число мультиребер:\n",
    "$$\n",
    "M=\\frac{1}{2} \\left(\\frac{\\langle k^2\\rangle-\\langle k\\rangle}{\\langle k\\rangle}\\right)^2,\n",
    "$$\n",
    "Ожидаемое число петель: \n",
    "$$\n",
    "S=\\frac{\\langle k^2\\rangle-\\langle k\\rangle}{2\\langle k\\rangle},\n",
    "$$\n",
    "\n",
    "Коэффициент кластеризации: \n",
    "\n",
    "$$\n",
    "C=\\frac{1}{N} \\frac{(\\langle k^2\\rangle-\\langle k\\rangle)^2}{\\langle k\\rangle^3},\n",
    "$$\n"
   ]
  },
  {
   "cell_type": "markdown",
   "metadata": {},
   "source": [
    "#### Задача 1.  Конфигурационная модель сетей со степенным распределением\n",
    "* напишите функции, вычисляющие по заданному массиву степеней теоретические (ожидаемые) значения числа мультиребер, петель и коэффициент кластеризации;"
   ]
  },
  {
   "cell_type": "code",
   "execution_count": 3,
   "metadata": {
    "collapsed": true
   },
   "outputs": [],
   "source": [
    "#def "
   ]
  },
  {
   "cell_type": "markdown",
   "metadata": {},
   "source": [
    "* напишите функции, вычисляющие число мультиребер, число петель и средний коэффициент кластеризации для заданного мультиграфа; "
   ]
  },
  {
   "cell_type": "code",
   "execution_count": 6,
   "metadata": {
    "collapsed": true
   },
   "outputs": [],
   "source": [
    "#def"
   ]
  },
  {
   "cell_type": "markdown",
   "metadata": {},
   "source": [
    "* сгенерируйте значения степеней вершин из степенного распределения для различных значений $\\gamma \\in \\left[2.0, 3.0\\right]$. Для этих распределений выведите теоретические (ожидаемые) значения числа мультиребер M, петель S и коэффициента кластеризации C, постройте по заданному массиву степеней конфигурационную модель, вычислите наблюдаемые для полученного графа значения M,S,C. Объясните полученные результаты."
   ]
  },
  {
   "cell_type": "markdown",
   "metadata": {},
   "source": [
    "Для генерации массива степеней воспользуйтесь функцией (используется [метод обратного преобразования](https://ru.wikipedia.org/wiki/%D0%9C%D0%B5%D1%82%D0%BE%D0%B4_%D0%BE%D0%B1%D1%80%D0%B0%D1%82%D0%BD%D0%BE%D0%B3%D0%BE_%D0%BF%D1%80%D0%B5%D0%BE%D0%B1%D1%80%D0%B0%D0%B7%D0%BE%D0%B2%D0%B0%D0%BD%D0%B8%D1%8F)):"
   ]
  },
  {
   "cell_type": "code",
   "execution_count": 5,
   "metadata": {
    "collapsed": true
   },
   "outputs": [],
   "source": [
    "def power_law(gamma,x_min=2,size=1000): #size - размер массива\n",
    "    x=np.zeros(size,dtype=int)\n",
    "    for i in range(size):\n",
    "        r=np.random.random()\n",
    "        x[i]=int(x_min*np.float_power((r),1/(-gamma+1)))\n",
    "    return x"
   ]
  },
  {
   "cell_type": "code",
   "execution_count": 10,
   "metadata": {},
   "outputs": [
    {
     "name": "stdout",
     "output_type": "stream",
     "text": [
      "[ 2  2 11  2  2  4  3  2  2  2]\n"
     ]
    }
   ],
   "source": [
    "print(power_law(2,size=10))"
   ]
  },
  {
   "cell_type": "markdown",
   "metadata": {},
   "source": [
    "#### Задание 2. Распределение степеней ближайших соседей\n",
    " * Пусть $\\gamma=3$, сгенерируйте массив степеней из степенного распределения, постройте несколько конфигурационных моделей для полученного массива;\n",
    " * для каждой вершины определите степени её ближайших соседей, объедините все значения в один массив и постройте распределение степеней. Определите среднее и дисперсию, отличаются ли они от среднего значения степени  вршин в сети и дисперсии? Объясните результаты. "
   ]
  },
  {
   "cell_type": "markdown",
   "metadata": {},
   "source": [
    "#### Задача 2. Конфигурационная модель сложной сети \n",
    "* постройте конфигурационную модель сети заболеваний;\n",
    "* сравните топологические характеристики сложной сети и ее конфигурационной модели: коэффициент кластеризации, транзитивность, средний кратчайший путь."
   ]
  },
  {
   "cell_type": "code",
   "execution_count": null,
   "metadata": {
    "collapsed": true
   },
   "outputs": [],
   "source": [
    "from google.colab import files\n",
    "\n",
    "uploaded = files.upload()\n",
    "\n",
    "for fn in uploaded.keys():\n",
    "  print('User uploaded file \"{name}\" with length {length} bytes'.format(\n",
    "      name=fn, length=len(uploaded[fn])))"
   ]
  },
  {
   "cell_type": "code",
   "execution_count": 51,
   "metadata": {
    "collapsed": true
   },
   "outputs": [],
   "source": [
    "G=nx.read_edgelist('bio-diseasome.txt')"
   ]
  },
  {
   "cell_type": "markdown",
   "metadata": {},
   "source": []
  },
  {
   "cell_type": "code",
   "execution_count": null,
   "metadata": {
    "collapsed": true
   },
   "outputs": [],
   "source": []
  }
 ],
 "metadata": {
  "kernelspec": {
   "display_name": "Python 3",
   "language": "python",
   "name": "python3"
  },
  "language_info": {
   "codemirror_mode": {
    "name": "ipython",
    "version": 3
   },
   "file_extension": ".py",
   "mimetype": "text/x-python",
   "name": "python",
   "nbconvert_exporter": "python",
   "pygments_lexer": "ipython3",
   "version": "3.6.3"
  }
 },
 "nbformat": 4,
 "nbformat_minor": 2
}
