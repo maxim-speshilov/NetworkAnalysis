{
  "nbformat": 4,
  "nbformat_minor": 0,
  "metadata": {
    "kernelspec": {
      "display_name": "Python 3",
      "language": "python",
      "name": "python3"
    },
    "language_info": {
      "codemirror_mode": {
        "name": "ipython",
        "version": 3
      },
      "file_extension": ".py",
      "mimetype": "text/x-python",
      "name": "python",
      "nbconvert_exporter": "python",
      "pygments_lexer": "ipython3",
      "version": "3.8.3"
    },
    "colab": {
      "name": "randomization.ipynb",
      "provenance": [],
      "collapsed_sections": [],
      "toc_visible": true
    }
  },
  "cells": [
    {
      "cell_type": "markdown",
      "metadata": {
        "id": "qLlIPtIvM4u3"
      },
      "source": [
        "# Рандомизация сети\n",
        "  ![](switch.jpg)"
      ]
    },
    {
      "cell_type": "code",
      "metadata": {
        "id": "ytD3KfjqM4u-"
      },
      "source": [
        "import numpy as np\n",
        "import matplotlib.pyplot as plt\n",
        "\n",
        "\n",
        "%matplotlib inline\n",
        "import networkx as nx\n",
        "import random"
      ],
      "execution_count": null,
      "outputs": []
    },
    {
      "cell_type": "code",
      "metadata": {
        "colab": {
          "base_uri": "https://localhost:8080/"
        },
        "id": "levYL7_XM4u_",
        "outputId": "81689584-eb98-41b4-caac-8ef98b957b30"
      },
      "source": [
        "G=nx.read_edgelist('bio-diseasome.txt') # сеть для проверки алгоритмов (можно использовать любую)\n",
        "list(nx.selfloop_edges(G))"
      ],
      "execution_count": 26,
      "outputs": [
        {
          "output_type": "execute_result",
          "data": {
            "text/plain": [
              "[]"
            ]
          },
          "metadata": {
            "tags": []
          },
          "execution_count": 26
        }
      ]
    },
    {
      "cell_type": "markdown",
      "metadata": {
        "id": "E9NjjRzDM4vA"
      },
      "source": [
        "### Алгоритм рандомизации и проверка алгоритма (5 балла)\n",
        "* напишите функцию, проверяющую, совпадают ли два вектора степеней для заданных графов $G_1$ и $G_2$;"
      ]
    },
    {
      "cell_type": "code",
      "metadata": {
        "id": "I5bJqJAeM4vA"
      },
      "source": [
        "def check_degrees(G1, G2):\n",
        "    degs1 = [k for _, k in sorted(G1.degree(), key=lambda x: int(x[0]))]\n",
        "    degs2 = [k for _, k in sorted(G2.degree(), key=lambda x: int(x[0]))]\n",
        "\n",
        "    return degs1 == degs2"
      ],
      "execution_count": null,
      "outputs": []
    },
    {
      "cell_type": "markdown",
      "metadata": {
        "id": "VFwZ-NWIM4vB"
      },
      "source": [
        "* напишите функцию рандомизации сети: \n",
        "  * (А) случайным образом выберите пару ребер, которые можно переключить между собой (новые ребра не должны быть петлями и мультиребрами!!!) и выполните переключение;\n",
        "  * (B) повторите шаг (A) $N_{steps}$ раз. \n",
        "  \n",
        "* проверьте, что ваша рандомизация действительно сохраняет степени вершин;"
      ]
    },
    {
      "cell_type": "code",
      "metadata": {
        "id": "H6itNTKwM4vB",
        "colab": {
          "base_uri": "https://localhost:8080/"
        },
        "outputId": "b2f52125-0d05-4c22-d698-a0e3e70d3ef7"
      },
      "source": [
        "def random_rewiring(G, N_steps):\n",
        "    G_rand = G.copy() \n",
        "       \n",
        "    for n in range(N_steps):\n",
        "        edges = list(G_rand.edges())\n",
        "        \n",
        "        switched = False\n",
        "\n",
        "        while not switched:\n",
        "            e1 = random.choice(edges)\n",
        "            e2 = random.choice(edges)\n",
        "\n",
        "            if (e1[0] == e2[1] or e1[1] == e2[0] or G_rand.has_edge(e1[0], e2[1]) \n",
        "              or G_rand.has_edge(e2[0], e1[1])):\n",
        "                continue\n",
        "            \n",
        "            switched = True\n",
        "\n",
        "            G_rand.add_edge(e1[0], e2[1])\n",
        "            G_rand.add_edge(e2[0], e1[1])\n",
        "            G_rand.remove_edge(*e1)\n",
        "            G_rand.remove_edge(*e2)\n",
        "            \n",
        "    return G_rand\n",
        "\n",
        "check_degrees(G, random_rewiring(G, 10))"
      ],
      "execution_count": null,
      "outputs": [
        {
          "output_type": "execute_result",
          "data": {
            "text/plain": [
              "True"
            ]
          },
          "metadata": {
            "tags": []
          },
          "execution_count": 11
        }
      ]
    },
    {
      "cell_type": "markdown",
      "metadata": {
        "id": "-JU7cIGDM4vC"
      },
      "source": [
        "* напишите функцию, вычисляющую долю связей, оставшихся на месте после рандомизации сети $G$;\n",
        "\n",
        "* постройте зависимость доли ребер, остающихся на месте от числа переключений. Число переключений выразите через число ребер в сети, т.е. $N_{steps}=\\left[0.1E,~0.2E,~\\dots~5E\\right]$, $E$- число ребер."
      ]
    },
    {
      "cell_type": "code",
      "metadata": {
        "id": "N_RkWRgoM4vC"
      },
      "source": [
        "def remained_edges(G, Grand):\n",
        "    intersection = nx.intersection(G, Grand)\n",
        "    return len(intersection.edges()) / len(G.edges())"
      ],
      "execution_count": null,
      "outputs": []
    },
    {
      "cell_type": "code",
      "metadata": {
        "colab": {
          "base_uri": "https://localhost:8080/",
          "height": 534
        },
        "id": "0Uup-a2PCzMK",
        "outputId": "b7f89d3f-b415-4c4e-e001-3f4c5f2629a9"
      },
      "source": [
        "E = len(G.edges())\n",
        "Ns = (np.arange(0.1, 5.01, 0.1) * E).astype(int)\n",
        "\n",
        "props = list(map(lambda N: remained_edges(G, random_rewiring(G, N)), Ns))\n",
        "\n",
        "plt.style.use('ggplot')\n",
        "plt.figure(figsize=(12, 8))\n",
        "plt.plot(Ns, props)\n",
        "plt.title(\"Number of remained edges by rewirings number\")\n",
        "plt.xlabel(\"N of rewirings\")\n",
        "plt.ylabel(\"N of remained edges\")"
      ],
      "execution_count": null,
      "outputs": [
        {
          "output_type": "execute_result",
          "data": {
            "text/plain": [
              "Text(0, 0.5, 'N of remained edges')"
            ]
          },
          "metadata": {
            "tags": []
          },
          "execution_count": 25
        },
        {
          "output_type": "display_data",
          "data": {
            "image/png": "[encoded data removed]",
            "text/plain": [
              "<Figure size 864x576 with 1 Axes>"
            ]
          },
          "metadata": {
            "tags": []
          }
        }
      ]
    },
    {
      "cell_type": "markdown",
      "metadata": {
        "id": "6ZTA1N_PM4vC"
      },
      "source": [
        "* вычислите различные структурные характеристики заданой сети (коэффициенты кластеризации, средний кратчайший путь, диаметр) и рандомизированной. Как изменились свойства? Почему? "
      ]
    },
    {
      "cell_type": "code",
      "metadata": {
        "id": "4fO-Pf3MM4vD"
      },
      "source": [
        "connected = False\n",
        "\n",
        "while not connected:\n",
        "    G_rand = random_rewiring(G, 1000)\n",
        "    connected = nx.is_connected(G_rand)"
      ],
      "execution_count": 30,
      "outputs": []
    },
    {
      "cell_type": "code",
      "metadata": {
        "id": "Z-bPqhEKEwtS",
        "colab": {
          "base_uri": "https://localhost:8080/",
          "height": 136
        },
        "outputId": "70b7b5e8-bba9-47c0-9129-098c292b6261"
      },
      "source": [
        "import pandas as pd\n",
        "\n",
        "df = pd.DataFrame(columns=['G', 'G randomized'], \n",
        "                  index=['Clustering coef.', 'Average shortest path', 'Diameter'])\n",
        "\n",
        "for i, f in enumerate((nx.average_clustering, nx.average_shortest_path_length, \n",
        "                       nx.diameter)):\n",
        "  for j, g in enumerate((G, G_rand)):\n",
        "    df.iloc[i, j] = f(g)\n",
        "\n",
        "df"
      ],
      "execution_count": 31,
      "outputs": [
        {
          "output_type": "execute_result",
          "data": {
            "text/html": [
              "<div>\n",
              "<style scoped>\n",
              "    .dataframe tbody tr th:only-of-type {\n",
              "        vertical-align: middle;\n",
              "    }\n",
              "\n",
              "    .dataframe tbody tr th {\n",
              "        vertical-align: top;\n",
              "    }\n",
              "\n",
              "    .dataframe thead th {\n",
              "        text-align: right;\n",
              "    }\n",
              "</style>\n",
              "<table border=\"1\" class=\"dataframe\">\n",
              "  <thead>\n",
              "    <tr style=\"text-align: right;\">\n",
              "      <th></th>\n",
              "      <th>G</th>\n",
              "      <th>G randomized</th>\n",
              "    </tr>\n",
              "  </thead>\n",
              "  <tbody>\n",
              "    <tr>\n",
              "      <th>Clustering coef.</th>\n",
              "      <td>0.63583</td>\n",
              "      <td>0.0185911</td>\n",
              "    </tr>\n",
              "    <tr>\n",
              "      <th>Average shortest path</th>\n",
              "      <td>6.50899</td>\n",
              "      <td>3.8891</td>\n",
              "    </tr>\n",
              "    <tr>\n",
              "      <th>Diameter</th>\n",
              "      <td>15</td>\n",
              "      <td>8</td>\n",
              "    </tr>\n",
              "  </tbody>\n",
              "</table>\n",
              "</div>"
            ],
            "text/plain": [
              "                             G G randomized\n",
              "Clustering coef.       0.63583    0.0185911\n",
              "Average shortest path  6.50899       3.8891\n",
              "Diameter                    15            8"
            ]
          },
          "metadata": {
            "tags": []
          },
          "execution_count": 31
        }
      ]
    },
    {
      "cell_type": "markdown",
      "metadata": {
        "id": "GQJ70MzQM4vD"
      },
      "source": [
        "Все характеристики уменьшились: они приближаются к значениям рандомизированной сети (при числе переключений около 3000 доля оставшихся ребер на месте становится почти равной 0). Модель при этом по сути есть модель Эрдоша-Реньи $ G(n, M) $ с заданным распределением степеней: $ G(n, M, \\vec{k}) $."
      ]
    }
  ]
}