{
  "nbformat": 4,
  "nbformat_minor": 0,
  "metadata": {
    "kernelspec": {
      "display_name": "Python 3",
      "language": "python",
      "name": "python3"
    },
    "language_info": {
      "codemirror_mode": {
        "name": "ipython",
        "version": 3
      },
      "file_extension": ".py",
      "mimetype": "text/x-python",
      "name": "python",
      "nbconvert_exporter": "python",
      "pygments_lexer": "ipython3",
      "version": "3.6.3"
    },
    "colab": {
      "name": "NS_Bonus.ipynb",
      "provenance": [],
      "collapsed_sections": [],
      "toc_visible": true
    }
  },
  "cells": [
    {
      "cell_type": "code",
      "metadata": {
        "collapsed": true,
        "id": "3-38-iW57yux"
      },
      "source": [
        "import numpy as np\n",
        "import matplotlib.pyplot as plt\n",
        "%matplotlib inline\n",
        "import networkx as nx\n",
        "from itertools import combinations, product"
      ],
      "execution_count": 1,
      "outputs": []
    },
    {
      "cell_type": "markdown",
      "metadata": {
        "id": "6Ieofnuj7yu3"
      },
      "source": [
        "## Задание 01 ( 5 баллов)\n",
        "Рассмотрим сеть авиарейсов между различными аэропортами US в 2015. Добавьте не более 500 ребер в сеть, чтобы средний кратчайший путь стал наименьшим. Работайте с сильно связанной компонентой (AR_strong)"
      ]
    },
    {
      "cell_type": "code",
      "metadata": {
        "id": "RwCUwpX-7yu4",
        "colab": {
          "base_uri": "https://localhost:8080/"
        },
        "outputId": "1d12047c-b3d5-4187-f9c0-d530a686658d"
      },
      "source": [
        "AR = nx.read_edgelist(\"airport.edgelist\", data=True, create_using=nx.DiGraph())\n",
        "print(AR.is_directed())\n",
        "print(len(AR), len(AR.edges()))\n",
        "print(nx.is_strongly_connected(AR))"
      ],
      "execution_count": 56,
      "outputs": [
        {
          "output_type": "stream",
          "text": [
            "True\n",
            "1258 25354\n",
            "False\n"
          ],
          "name": "stdout"
        }
      ]
    },
    {
      "cell_type": "code",
      "metadata": {
        "id": "_cq9vaUk7yu5",
        "colab": {
          "base_uri": "https://localhost:8080/"
        },
        "outputId": "bfbe0066-95a2-440f-eb00-ac10416eabed"
      },
      "source": [
        "AR_strong = AR.subgraph(max(nx.strongly_connected_components(AR), key=len))\n",
        "print(AR_strong.number_of_nodes(), AR_strong.number_of_edges())"
      ],
      "execution_count": 3,
      "outputs": [
        {
          "output_type": "stream",
          "text": [
            "1190 25279\n"
          ],
          "name": "stdout"
        }
      ]
    },
    {
      "cell_type": "markdown",
      "metadata": {
        "id": "PRvFYstx7yu6"
      },
      "source": [
        "### Выведем среднее значение кратчайшего расстояния в системе: "
      ]
    },
    {
      "cell_type": "code",
      "metadata": {
        "colab": {
          "base_uri": "https://localhost:8080/"
        },
        "id": "V-lwhbyAsN8X",
        "outputId": "5d4929c8-342e-4459-fe6c-bcfd5d3a9dd3"
      },
      "source": [
        "print(nx.average_shortest_path_length(AR_strong))"
      ],
      "execution_count": 4,
      "outputs": [
        {
          "output_type": "stream",
          "text": [
            "3.174661992635574\n"
          ],
          "name": "stdout"
        }
      ]
    },
    {
      "cell_type": "markdown",
      "metadata": {
        "id": "4W9w4SppbkKr"
      },
      "source": [
        "Отсортируем вершины по средней длине кратчайшего пути и соединим \"слыбые\" вершины с \"сильными\"."
      ]
    },
    {
      "cell_type": "code",
      "metadata": {
        "id": "JGt4hIP5JQFD"
      },
      "source": [
        "avg_path_lengths = {}\n",
        "\n",
        "for node in list(AR_strong):\n",
        "  avg_path_lengths[node] = np.mean(\n",
        "      list(nx.single_source_shortest_path_length(AR_strong, node).values()))"
      ],
      "execution_count": 11,
      "outputs": []
    },
    {
      "cell_type": "code",
      "metadata": {
        "colab": {
          "base_uri": "https://localhost:8080/"
        },
        "id": "McNCXTUfQgBm",
        "outputId": "000b6100-0e63-4c23-ad00-8fd560135f0b"
      },
      "source": [
        "import operator \n",
        "from collections import OrderedDict\n",
        "from itertools import product\n",
        "\n",
        "AR_strong_сompressed = AR_strong.copy()\n",
        "\n",
        "n_hubs = 0;\n",
        "n_edges_to_add = 500;\n",
        "n_edges_to_connect_to_hubs = n_edges_to_add // 2;\n",
        "\n",
        "avg_path_lengths_sorted = OrderedDict(sorted(avg_path_lengths.items(), \n",
        "                                             key=operator.itemgetter(1)))\n",
        "keys = list(avg_path_lengths_sorted.keys())\n",
        "\n",
        "for i in range(n_edges_to_connect_to_hubs):\n",
        "  u = keys[-i]\n",
        "  is_added = False\n",
        "  is_reverse_added = False\n",
        "\n",
        "  for v in keys:\n",
        "    if v != u:\n",
        "      if not AR_strong_сompressed.has_edge(u, v) and not is_added:\n",
        "        AR_strong_сompressed.add_edge(u, v)\n",
        "        is_added = True\n",
        "\n",
        "      if not AR_strong_сompressed.has_edge(v, u) and not is_reverse_added:\n",
        "        AR_strong_сompressed.add_edge(v, u)\n",
        "        is_reverse_added = True\n",
        "\n",
        "      if is_added and is_reverse_added:\n",
        "        break\n",
        "\n",
        "print(nx.average_shortest_path_length(AR_strong_сompressed))"
      ],
      "execution_count": 84,
      "outputs": [
        {
          "output_type": "stream",
          "text": [
            "2.728661893689351\n"
          ],
          "name": "stdout"
        }
      ]
    },
    {
      "cell_type": "code",
      "metadata": {
        "colab": {
          "base_uri": "https://localhost:8080/"
        },
        "id": "cU7ZE1jNWTpx",
        "outputId": "e508f27c-5b17-43ac-dcde-4831015b485d"
      },
      "source": [
        "len(AR_strong_сompressed.edges) - len(AR_strong.edges)"
      ],
      "execution_count": 85,
      "outputs": [
        {
          "output_type": "execute_result",
          "data": {
            "text/plain": [
              "500"
            ]
          },
          "metadata": {
            "tags": []
          },
          "execution_count": 85
        }
      ]
    },
    {
      "cell_type": "markdown",
      "metadata": {
        "id": "uCbnyQhs7yu7"
      },
      "source": [
        "## Задание 02 Метрика качества разбиения на сообщества (4 балла)\n",
        "\n",
        "\n",
        "### Матрица попарных ошибок:\n",
        "$$\n",
        "A=\\begin{pmatrix}\n",
        " a_{00} &  a_{01}\\\\\n",
        "a_{10}& a_{11}\n",
        "\\end{pmatrix}\t\n",
        "$$\n",
        "\n",
        "Hассмотрим всевоозможные пары вершин:\n",
        "* $a_{00}$ - количество пар, относящиеся к одному сообществу и в первом и во втором разбиениях;\n",
        "* $a_{01}$ - количество пар, относящиеся к одному сообществу в первом разбиении и к разным во втором разбиении;\n",
        "* $a_{10}$ - количество пар, относящиеся к одному сообществу во втором разбиении и к разным во первом разбиении;\n",
        "* $a_{11}$ - количество пар, относящиеся к разным сообществам и в первом и во втором разбиениях;\n",
        "\n",
        "Для сети каратэ и различных алгоритмов выделения сообществ (основанный на схожести, Лювен, спектральные методы, label propagation) определите матрицу попарных ошибок. "
      ]
    },
    {
      "cell_type": "code",
      "metadata": {
        "id": "qeJ28iIq9Swo"
      },
      "source": [
        "from itertools import combinations, product\n",
        " \n",
        "def pairwise_same_label(partition):\n",
        "  \"\"\"Compute pairwise binary labels.\n",
        " \n",
        "  Arguments:\n",
        "  partition -- partition of network, dict {node: label}\n",
        " \n",
        "  Returns:\n",
        "  dict {(node1, node2): 1 if different labels,  otherwise 0}\n",
        "  \"\"\"\n",
        " \n",
        "  if type(partition) != dict:\n",
        "    raise ValueError(\"Partition must be a dict object\")\n",
        " \n",
        "  return {(u, v): int(not partition[u] == partition[v]) for u, v in\n",
        "          combinations(partition.keys(), 2)}\n",
        " \n",
        "def pairwise_error_matrix(part1, part2):\n",
        "  \"\"\"Compute pairwise error matrix.\n",
        " \n",
        "  Arguments:\n",
        "  part1 -- 1st partition of network, dict {node: label}\n",
        "  part2 -- 2st partition of network, dict {node: label}\n",
        " \n",
        "  Returns:\n",
        "  Rairwise error matrix, np.array\n",
        "  \"\"\"\n",
        " \n",
        "  pairs1, pairs2 = map(pairwise_same_label, (part1, part2))\n",
        "  A = np.zeros((2, 2), dtype=int)\n",
        " \n",
        "  for key, value1 in pairs1.items():\n",
        "    try:\n",
        "      value2 = pairs2[key]\n",
        "    except KeyError:\n",
        "      value2 = pairs2[(key[1], key[0])]\n",
        "  \n",
        "    A[value1][value2] += 1\n",
        "   \n",
        "  return A"
      ],
      "execution_count": null,
      "outputs": []
    },
    {
      "cell_type": "code",
      "metadata": {
        "id": "opfm_VZIi4YD"
      },
      "source": [
        "import operator\n",
        " \n",
        "def similarity_matrix(G, nodelist=None):\n",
        "  if (nodelist == None):\n",
        "      nodelist = list(G.nodes)\n",
        "\n",
        "  Smatrix = np.zeros([len(nodelist), len(nodelist)])\n",
        "\n",
        "  for i in range(len(nodelist)):\n",
        "      for j in range(i+1, len(nodelist)):\n",
        "          u, v = nodelist[i], nodelist[j]\n",
        "          k_u, k_v = len(G[u]), len(G[v])\n",
        "          J_ij = len(set(G[u]) & set(G[v]))\n",
        "          A_ij = int(G.has_edge(u, v))\n",
        "          Smatrix[i, j] = (J_ij + A_ij) / (np.min(k_u, k_v) + 1 - A_ij)\n",
        "          Smatrix[j, i] = Smatrix[i, j]\n",
        "\n",
        "  return Smatrix\n",
        " \n",
        "def ravatz(G, n, measure='mean'):\n",
        "  nodes = list(G)\n",
        "  N = len(nodes)\n",
        "  if n == 1 or n > N - 1:\n",
        "    raise ValueError('n must be between 2 and N - 1, where N is number of nodes')\n",
        " \n",
        "  idx = {node: i for i, node in enumerate(nodes)}\n",
        " \n",
        "  X = similarity_matrix(G)\n",
        " \n",
        "  labels_to_coms = {i: frozenset([nodes[i]]) for i in range(N)}\n",
        "  coms_to_labels = {value: key for key, value in labels_to_coms.items()}\n",
        "  merges = []\n",
        " \n",
        "  measures = {'mean': np.mean,\n",
        "              'max': np.max,\n",
        "              'min': np.min}\n",
        " \n",
        "  def d(c1, c2):\n",
        "    ds = np.array([])\n",
        "    for u in c1:\n",
        "      for v in c2:\n",
        "        ds = np.append(ds, X[idx[u], idx[v]])\n",
        "    return measures[measure](ds)\n",
        " \n",
        "  while len(labels_to_coms) != 1:\n",
        "    ds = {(c1, c2): d(c1, c2) for c1, c2 in combinations(labels_to_coms.values(), 2)}\n",
        "    max_d = max(ds.items(), key=operator.itemgetter(1))[1]\n",
        "    pos_coms_to_merge = [key for key, value in ds.items() if \n",
        "                           value == max_d]\n",
        " \n",
        "    c1, c2 = pos_coms_to_merge[np.random.randint(len(pos_coms_to_merge))]\n",
        "    label1, label2 = coms_to_labels[c1], coms_to_labels[c2]\n",
        "    coms_to_labels[c1 | c2] = label1\n",
        "    coms_to_labels.pop(c1)\n",
        "    coms_to_labels.pop(c2)\n",
        "    labels_to_coms.pop(label2)\n",
        "    labels_to_coms[label1] = c1 | c2\n",
        "    merges.append([set(value) for value in labels_to_coms.values()])\n",
        " \n",
        "  return merges[-n]"
      ],
      "execution_count": null,
      "outputs": []
    },
    {
      "cell_type": "code",
      "metadata": {
        "colab": {
          "base_uri": "https://localhost:8080/"
        },
        "id": "FMwW7-UftzC3",
        "outputId": "2c14b8ee-1dd4-4877-82e2-ff692b1bf103"
      },
      "source": [
        "G = nx.karate_club_graph()\n",
        "part = ravatz(G, 3)\n",
        "part"
      ],
      "execution_count": null,
      "outputs": [
        {
          "output_type": "execute_result",
          "data": {
            "text/plain": [
              "[{0, 1, 2, 3, 4, 5, 6, 7, 10, 11, 12, 13, 16, 17, 19, 21},\n",
              " {8, 9, 14, 15, 18, 20, 22, 23, 26, 27, 28, 29, 30, 32, 33},\n",
              " {24, 25, 31}]"
            ]
          },
          "metadata": {
            "tags": []
          },
          "execution_count": 19
        }
      ]
    },
    {
      "cell_type": "code",
      "metadata": {
        "id": "KykYKl9e867Y"
      },
      "source": [
        "def node_for_label(partition):\n",
        "  res = {}\n",
        "  for value, keys in enumerate(partition):\n",
        "    for key in keys:\n",
        "      res[key] = value\n",
        "  return res"
      ],
      "execution_count": null,
      "outputs": []
    },
    {
      "cell_type": "code",
      "metadata": {
        "colab": {
          "base_uri": "https://localhost:8080/"
        },
        "id": "uyoFutAh9PBX",
        "outputId": "67d0a44c-c13e-4544-b418-fc22ab27590b"
      },
      "source": [
        "node_for_label(part)"
      ],
      "execution_count": null,
      "outputs": [
        {
          "output_type": "execute_result",
          "data": {
            "text/plain": [
              "{0: 0,\n",
              " 1: 0,\n",
              " 2: 0,\n",
              " 3: 0,\n",
              " 4: 0,\n",
              " 5: 0,\n",
              " 6: 0,\n",
              " 7: 0,\n",
              " 8: 1,\n",
              " 9: 1,\n",
              " 10: 0,\n",
              " 11: 0,\n",
              " 12: 0,\n",
              " 13: 0,\n",
              " 14: 1,\n",
              " 15: 1,\n",
              " 16: 0,\n",
              " 17: 0,\n",
              " 18: 1,\n",
              " 19: 0,\n",
              " 20: 1,\n",
              " 21: 0,\n",
              " 22: 1,\n",
              " 23: 1,\n",
              " 24: 2,\n",
              " 25: 2,\n",
              " 26: 1,\n",
              " 27: 1,\n",
              " 28: 1,\n",
              " 29: 1,\n",
              " 30: 1,\n",
              " 31: 2,\n",
              " 32: 1,\n",
              " 33: 1}"
            ]
          },
          "metadata": {
            "tags": []
          },
          "execution_count": 20
        }
      ]
    },
    {
      "cell_type": "code",
      "metadata": {
        "id": "-PnpOoT_-hcE"
      },
      "source": [
        "from collections import Counter \n",
        " \n",
        "def highest_frequency_labels(v, labels, G):\n",
        "    if not G[v]:\n",
        "        return [labels[v]]\n",
        "    \n",
        "    label_freqs = Counter()\n",
        "    for n in G[v]:\n",
        "        label_freqs[labels[n]] += 1\n",
        "            \n",
        "    max_freq = max(label_freqs.values())\n",
        "    return [label for label, freq in label_freqs.items() \n",
        "            if freq == max_freq]\n",
        " \n",
        "def label_propagation(G):\n",
        "    labels = {v: k for k, v in enumerate(G)}\n",
        "    nodes = list(G)\n",
        "    boo = True\n",
        "    \n",
        "    while boo:\n",
        "        boo = False\n",
        "        np.random.shuffle(nodes)\n",
        "        \n",
        "        for v in nodes:\n",
        "            if not G[v]:\n",
        "                continue\n",
        "                \n",
        "            labels_to_choose = highest_frequency_labels(v, labels, G)\n",
        "            chosen_label = np.random.choice(labels_to_choose)\n",
        "            labels[v] = chosen_label\n",
        "        \n",
        "        boo = any(labels[v] not in highest_frequency_labels(v, labels, G)\n",
        "                 for v in nodes if G[v])\n",
        "    return labels\n",
        " \n",
        " \n",
        "def spectral(G):\n",
        "  L = nx.laplacian_matrix(G)\n",
        "  w, v = np.linalg.eig(L.toarray())\n",
        "  idx = w.argsort()\n",
        "  v2 = np.transpose(v)[idx][1]\n",
        "  spectral = {i: int(v2[i - 1] >= 0) for i in G.nodes}  \n",
        " \n",
        "  return [set((v for v in spectral if spectral[v] == label)) \n",
        "            for label in set(spectral.values())]"
      ],
      "execution_count": null,
      "outputs": []
    },
    {
      "cell_type": "code",
      "metadata": {
        "colab": {
          "base_uri": "https://localhost:8080/"
        },
        "id": "tW2xmfPK9FuI",
        "outputId": "9ab05c6d-d24f-4aef-ec71-8dd8d923b4b2"
      },
      "source": [
        "import community as co\n",
        " \n",
        "G = nx.karate_club_graph()\n",
        " \n",
        "parts = {'Ravatz': node_for_label(ravatz(G, 2)),\n",
        "         'Spectral': node_for_label(spectral(G)),\n",
        "         'Louvain': co.best_partition(G),\n",
        "         'Label propagation': label_propagation(G)}\n",
        " \n",
        "print('Pairwise error matrices: ')\n",
        "print('-' * 50)\n",
        " \n",
        "for key1, key2 in combinations(parts.keys(), 2):\n",
        "  print(key1, '---', key2, ': ')\n",
        "  print(pairwise_error_matrix(parts[key1], parts[key2]))\n",
        "  print('-' * 50)"
      ],
      "execution_count": null,
      "outputs": [
        {
          "output_type": "stream",
          "text": [
            "Pairwise error matrices: \n",
            "--------------------------------------------------\n",
            "Ravatz --- Spectral : \n",
            "[[148 125]\n",
            " [128 160]]\n",
            "--------------------------------------------------\n",
            "Ravatz --- Louvain : \n",
            "[[149 124]\n",
            " [ 11 277]]\n",
            "--------------------------------------------------\n",
            "Ravatz --- Label propagation : \n",
            "[[217  56]\n",
            " [ 13 275]]\n",
            "--------------------------------------------------\n",
            "Spectral --- Louvain : \n",
            "[[ 79 197]\n",
            " [ 81 204]]\n",
            "--------------------------------------------------\n",
            "Spectral --- Label propagation : \n",
            "[[120 156]\n",
            " [110 175]]\n",
            "--------------------------------------------------\n",
            "Louvain --- Label propagation : \n",
            "[[154   6]\n",
            " [ 76 325]]\n",
            "--------------------------------------------------\n"
          ],
          "name": "stdout"
        }
      ]
    },
    {
      "cell_type": "markdown",
      "metadata": {
        "id": "Qp1qjQf27yu8"
      },
      "source": [
        "## Задание 03 Рандомизация направленных сетей (6 баллов)"
      ]
    },
    {
      "cell_type": "markdown",
      "metadata": {
        "id": "ItRvLWp27yu8"
      },
      "source": [
        "Будем работать с направленной сетью ассоциаций английского языка. \n",
        "* Определите долю двунаправленных связей в сети и транзитивность сети. \n",
        "* Постройте рандомизированную модель и вычислите как изменилась доля двунаправленных связей и транзитивность в модели. \n",
        "* Перепишите алгоритм рандомизации таким образом, чтобы число двунаправленных связей оставалось неизменным (но сами связи меняли свое положение!!!). Сравните транзитивность в этой модели. "
      ]
    },
    {
      "cell_type": "code",
      "metadata": {
        "id": "s2zAEbnb7yu8",
        "colab": {
          "base_uri": "https://localhost:8080/",
          "height": 615
        },
        "outputId": "6868e160-f6b1-47c5-b080-da8cec2f86e0"
      },
      "source": [
        "import pandas as pd\n",
        "net = pd.read_excel('assoc_eng2.xlsx', index_col=0)\n",
        "net.head()"
      ],
      "execution_count": null,
      "outputs": [
        {
          "output_type": "error",
          "ename": "FileNotFoundError",
          "evalue": "ignored",
          "traceback": [
            "\u001b[0;31m---------------------------------------------------------------------------\u001b[0m",
            "\u001b[0;31mFileNotFoundError\u001b[0m                         Traceback (most recent call last)",
            "\u001b[0;32m<ipython-input-13-a39b5ea4c745>\u001b[0m in \u001b[0;36m<module>\u001b[0;34m()\u001b[0m\n\u001b[1;32m      1\u001b[0m \u001b[0;32mimport\u001b[0m \u001b[0mpandas\u001b[0m \u001b[0;32mas\u001b[0m \u001b[0mpd\u001b[0m\u001b[0;34m\u001b[0m\u001b[0;34m\u001b[0m\u001b[0m\n\u001b[0;32m----> 2\u001b[0;31m \u001b[0mnet\u001b[0m \u001b[0;34m=\u001b[0m \u001b[0mpd\u001b[0m\u001b[0;34m.\u001b[0m\u001b[0mread_excel\u001b[0m\u001b[0;34m(\u001b[0m\u001b[0;34m'assoc_eng2.xlsx'\u001b[0m\u001b[0;34m,\u001b[0m \u001b[0mindex_col\u001b[0m\u001b[0;34m=\u001b[0m\u001b[0;36m0\u001b[0m\u001b[0;34m)\u001b[0m\u001b[0;34m\u001b[0m\u001b[0;34m\u001b[0m\u001b[0m\n\u001b[0m\u001b[1;32m      3\u001b[0m \u001b[0mnet\u001b[0m\u001b[0;34m.\u001b[0m\u001b[0mhead\u001b[0m\u001b[0;34m(\u001b[0m\u001b[0;34m)\u001b[0m\u001b[0;34m\u001b[0m\u001b[0;34m\u001b[0m\u001b[0m\n",
            "\u001b[0;32m/usr/local/lib/python3.7/dist-packages/pandas/util/_decorators.py\u001b[0m in \u001b[0;36mwrapper\u001b[0;34m(*args, **kwargs)\u001b[0m\n\u001b[1;32m    294\u001b[0m                 )\n\u001b[1;32m    295\u001b[0m                 \u001b[0mwarnings\u001b[0m\u001b[0;34m.\u001b[0m\u001b[0mwarn\u001b[0m\u001b[0;34m(\u001b[0m\u001b[0mmsg\u001b[0m\u001b[0;34m,\u001b[0m \u001b[0mFutureWarning\u001b[0m\u001b[0;34m,\u001b[0m \u001b[0mstacklevel\u001b[0m\u001b[0;34m=\u001b[0m\u001b[0mstacklevel\u001b[0m\u001b[0;34m)\u001b[0m\u001b[0;34m\u001b[0m\u001b[0;34m\u001b[0m\u001b[0m\n\u001b[0;32m--> 296\u001b[0;31m             \u001b[0;32mreturn\u001b[0m \u001b[0mfunc\u001b[0m\u001b[0;34m(\u001b[0m\u001b[0;34m*\u001b[0m\u001b[0margs\u001b[0m\u001b[0;34m,\u001b[0m \u001b[0;34m**\u001b[0m\u001b[0mkwargs\u001b[0m\u001b[0;34m)\u001b[0m\u001b[0;34m\u001b[0m\u001b[0;34m\u001b[0m\u001b[0m\n\u001b[0m\u001b[1;32m    297\u001b[0m \u001b[0;34m\u001b[0m\u001b[0m\n\u001b[1;32m    298\u001b[0m         \u001b[0;32mreturn\u001b[0m \u001b[0mwrapper\u001b[0m\u001b[0;34m\u001b[0m\u001b[0;34m\u001b[0m\u001b[0m\n",
            "\u001b[0;32m/usr/local/lib/python3.7/dist-packages/pandas/io/excel/_base.py\u001b[0m in \u001b[0;36mread_excel\u001b[0;34m(io, sheet_name, header, names, index_col, usecols, squeeze, dtype, engine, converters, true_values, false_values, skiprows, nrows, na_values, keep_default_na, na_filter, verbose, parse_dates, date_parser, thousands, comment, skipfooter, convert_float, mangle_dupe_cols)\u001b[0m\n\u001b[1;32m    302\u001b[0m \u001b[0;34m\u001b[0m\u001b[0m\n\u001b[1;32m    303\u001b[0m     \u001b[0;32mif\u001b[0m \u001b[0;32mnot\u001b[0m \u001b[0misinstance\u001b[0m\u001b[0;34m(\u001b[0m\u001b[0mio\u001b[0m\u001b[0;34m,\u001b[0m \u001b[0mExcelFile\u001b[0m\u001b[0;34m)\u001b[0m\u001b[0;34m:\u001b[0m\u001b[0;34m\u001b[0m\u001b[0;34m\u001b[0m\u001b[0m\n\u001b[0;32m--> 304\u001b[0;31m         \u001b[0mio\u001b[0m \u001b[0;34m=\u001b[0m \u001b[0mExcelFile\u001b[0m\u001b[0;34m(\u001b[0m\u001b[0mio\u001b[0m\u001b[0;34m,\u001b[0m \u001b[0mengine\u001b[0m\u001b[0;34m=\u001b[0m\u001b[0mengine\u001b[0m\u001b[0;34m)\u001b[0m\u001b[0;34m\u001b[0m\u001b[0;34m\u001b[0m\u001b[0m\n\u001b[0m\u001b[1;32m    305\u001b[0m     \u001b[0;32melif\u001b[0m \u001b[0mengine\u001b[0m \u001b[0;32mand\u001b[0m \u001b[0mengine\u001b[0m \u001b[0;34m!=\u001b[0m \u001b[0mio\u001b[0m\u001b[0;34m.\u001b[0m\u001b[0mengine\u001b[0m\u001b[0;34m:\u001b[0m\u001b[0;34m\u001b[0m\u001b[0;34m\u001b[0m\u001b[0m\n\u001b[1;32m    306\u001b[0m         raise ValueError(\n",
            "\u001b[0;32m/usr/local/lib/python3.7/dist-packages/pandas/io/excel/_base.py\u001b[0m in \u001b[0;36m__init__\u001b[0;34m(self, path_or_buffer, engine)\u001b[0m\n\u001b[1;32m    865\u001b[0m         \u001b[0mself\u001b[0m\u001b[0;34m.\u001b[0m\u001b[0m_io\u001b[0m \u001b[0;34m=\u001b[0m \u001b[0mstringify_path\u001b[0m\u001b[0;34m(\u001b[0m\u001b[0mpath_or_buffer\u001b[0m\u001b[0;34m)\u001b[0m\u001b[0;34m\u001b[0m\u001b[0;34m\u001b[0m\u001b[0m\n\u001b[1;32m    866\u001b[0m \u001b[0;34m\u001b[0m\u001b[0m\n\u001b[0;32m--> 867\u001b[0;31m         \u001b[0mself\u001b[0m\u001b[0;34m.\u001b[0m\u001b[0m_reader\u001b[0m \u001b[0;34m=\u001b[0m \u001b[0mself\u001b[0m\u001b[0;34m.\u001b[0m\u001b[0m_engines\u001b[0m\u001b[0;34m[\u001b[0m\u001b[0mengine\u001b[0m\u001b[0;34m]\u001b[0m\u001b[0;34m(\u001b[0m\u001b[0mself\u001b[0m\u001b[0;34m.\u001b[0m\u001b[0m_io\u001b[0m\u001b[0;34m)\u001b[0m\u001b[0;34m\u001b[0m\u001b[0;34m\u001b[0m\u001b[0m\n\u001b[0m\u001b[1;32m    868\u001b[0m \u001b[0;34m\u001b[0m\u001b[0m\n\u001b[1;32m    869\u001b[0m     \u001b[0;32mdef\u001b[0m \u001b[0m__fspath__\u001b[0m\u001b[0;34m(\u001b[0m\u001b[0mself\u001b[0m\u001b[0;34m)\u001b[0m\u001b[0;34m:\u001b[0m\u001b[0;34m\u001b[0m\u001b[0;34m\u001b[0m\u001b[0m\n",
            "\u001b[0;32m/usr/local/lib/python3.7/dist-packages/pandas/io/excel/_xlrd.py\u001b[0m in \u001b[0;36m__init__\u001b[0;34m(self, filepath_or_buffer)\u001b[0m\n\u001b[1;32m     20\u001b[0m         \u001b[0merr_msg\u001b[0m \u001b[0;34m=\u001b[0m \u001b[0;34m\"Install xlrd >= 1.0.0 for Excel support\"\u001b[0m\u001b[0;34m\u001b[0m\u001b[0;34m\u001b[0m\u001b[0m\n\u001b[1;32m     21\u001b[0m         \u001b[0mimport_optional_dependency\u001b[0m\u001b[0;34m(\u001b[0m\u001b[0;34m\"xlrd\"\u001b[0m\u001b[0;34m,\u001b[0m \u001b[0mextra\u001b[0m\u001b[0;34m=\u001b[0m\u001b[0merr_msg\u001b[0m\u001b[0;34m)\u001b[0m\u001b[0;34m\u001b[0m\u001b[0;34m\u001b[0m\u001b[0m\n\u001b[0;32m---> 22\u001b[0;31m         \u001b[0msuper\u001b[0m\u001b[0;34m(\u001b[0m\u001b[0;34m)\u001b[0m\u001b[0;34m.\u001b[0m\u001b[0m__init__\u001b[0m\u001b[0;34m(\u001b[0m\u001b[0mfilepath_or_buffer\u001b[0m\u001b[0;34m)\u001b[0m\u001b[0;34m\u001b[0m\u001b[0;34m\u001b[0m\u001b[0m\n\u001b[0m\u001b[1;32m     23\u001b[0m \u001b[0;34m\u001b[0m\u001b[0m\n\u001b[1;32m     24\u001b[0m     \u001b[0;34m@\u001b[0m\u001b[0mproperty\u001b[0m\u001b[0;34m\u001b[0m\u001b[0;34m\u001b[0m\u001b[0m\n",
            "\u001b[0;32m/usr/local/lib/python3.7/dist-packages/pandas/io/excel/_base.py\u001b[0m in \u001b[0;36m__init__\u001b[0;34m(self, filepath_or_buffer)\u001b[0m\n\u001b[1;32m    351\u001b[0m             \u001b[0mself\u001b[0m\u001b[0;34m.\u001b[0m\u001b[0mbook\u001b[0m \u001b[0;34m=\u001b[0m \u001b[0mself\u001b[0m\u001b[0;34m.\u001b[0m\u001b[0mload_workbook\u001b[0m\u001b[0;34m(\u001b[0m\u001b[0mfilepath_or_buffer\u001b[0m\u001b[0;34m)\u001b[0m\u001b[0;34m\u001b[0m\u001b[0;34m\u001b[0m\u001b[0m\n\u001b[1;32m    352\u001b[0m         \u001b[0;32melif\u001b[0m \u001b[0misinstance\u001b[0m\u001b[0;34m(\u001b[0m\u001b[0mfilepath_or_buffer\u001b[0m\u001b[0;34m,\u001b[0m \u001b[0mstr\u001b[0m\u001b[0;34m)\u001b[0m\u001b[0;34m:\u001b[0m\u001b[0;34m\u001b[0m\u001b[0;34m\u001b[0m\u001b[0m\n\u001b[0;32m--> 353\u001b[0;31m             \u001b[0mself\u001b[0m\u001b[0;34m.\u001b[0m\u001b[0mbook\u001b[0m \u001b[0;34m=\u001b[0m \u001b[0mself\u001b[0m\u001b[0;34m.\u001b[0m\u001b[0mload_workbook\u001b[0m\u001b[0;34m(\u001b[0m\u001b[0mfilepath_or_buffer\u001b[0m\u001b[0;34m)\u001b[0m\u001b[0;34m\u001b[0m\u001b[0;34m\u001b[0m\u001b[0m\n\u001b[0m\u001b[1;32m    354\u001b[0m         \u001b[0;32melif\u001b[0m \u001b[0misinstance\u001b[0m\u001b[0;34m(\u001b[0m\u001b[0mfilepath_or_buffer\u001b[0m\u001b[0;34m,\u001b[0m \u001b[0mbytes\u001b[0m\u001b[0;34m)\u001b[0m\u001b[0;34m:\u001b[0m\u001b[0;34m\u001b[0m\u001b[0;34m\u001b[0m\u001b[0m\n\u001b[1;32m    355\u001b[0m             \u001b[0mself\u001b[0m\u001b[0;34m.\u001b[0m\u001b[0mbook\u001b[0m \u001b[0;34m=\u001b[0m \u001b[0mself\u001b[0m\u001b[0;34m.\u001b[0m\u001b[0mload_workbook\u001b[0m\u001b[0;34m(\u001b[0m\u001b[0mBytesIO\u001b[0m\u001b[0;34m(\u001b[0m\u001b[0mfilepath_or_buffer\u001b[0m\u001b[0;34m)\u001b[0m\u001b[0;34m)\u001b[0m\u001b[0;34m\u001b[0m\u001b[0;34m\u001b[0m\u001b[0m\n",
            "\u001b[0;32m/usr/local/lib/python3.7/dist-packages/pandas/io/excel/_xlrd.py\u001b[0m in \u001b[0;36mload_workbook\u001b[0;34m(self, filepath_or_buffer)\u001b[0m\n\u001b[1;32m     35\u001b[0m             \u001b[0;32mreturn\u001b[0m \u001b[0mopen_workbook\u001b[0m\u001b[0;34m(\u001b[0m\u001b[0mfile_contents\u001b[0m\u001b[0;34m=\u001b[0m\u001b[0mdata\u001b[0m\u001b[0;34m)\u001b[0m\u001b[0;34m\u001b[0m\u001b[0;34m\u001b[0m\u001b[0m\n\u001b[1;32m     36\u001b[0m         \u001b[0;32melse\u001b[0m\u001b[0;34m:\u001b[0m\u001b[0;34m\u001b[0m\u001b[0;34m\u001b[0m\u001b[0m\n\u001b[0;32m---> 37\u001b[0;31m             \u001b[0;32mreturn\u001b[0m \u001b[0mopen_workbook\u001b[0m\u001b[0;34m(\u001b[0m\u001b[0mfilepath_or_buffer\u001b[0m\u001b[0;34m)\u001b[0m\u001b[0;34m\u001b[0m\u001b[0;34m\u001b[0m\u001b[0m\n\u001b[0m\u001b[1;32m     38\u001b[0m \u001b[0;34m\u001b[0m\u001b[0m\n\u001b[1;32m     39\u001b[0m     \u001b[0;34m@\u001b[0m\u001b[0mproperty\u001b[0m\u001b[0;34m\u001b[0m\u001b[0;34m\u001b[0m\u001b[0m\n",
            "\u001b[0;32m/usr/local/lib/python3.7/dist-packages/xlrd/__init__.py\u001b[0m in \u001b[0;36mopen_workbook\u001b[0;34m(filename, logfile, verbosity, use_mmap, file_contents, encoding_override, formatting_info, on_demand, ragged_rows)\u001b[0m\n\u001b[1;32m    114\u001b[0m         \u001b[0mpeek\u001b[0m \u001b[0;34m=\u001b[0m \u001b[0mfile_contents\u001b[0m\u001b[0;34m[\u001b[0m\u001b[0;34m:\u001b[0m\u001b[0mpeeksz\u001b[0m\u001b[0;34m]\u001b[0m\u001b[0;34m\u001b[0m\u001b[0;34m\u001b[0m\u001b[0m\n\u001b[1;32m    115\u001b[0m     \u001b[0;32melse\u001b[0m\u001b[0;34m:\u001b[0m\u001b[0;34m\u001b[0m\u001b[0;34m\u001b[0m\u001b[0m\n\u001b[0;32m--> 116\u001b[0;31m         \u001b[0;32mwith\u001b[0m \u001b[0mopen\u001b[0m\u001b[0;34m(\u001b[0m\u001b[0mfilename\u001b[0m\u001b[0;34m,\u001b[0m \u001b[0;34m\"rb\"\u001b[0m\u001b[0;34m)\u001b[0m \u001b[0;32mas\u001b[0m \u001b[0mf\u001b[0m\u001b[0;34m:\u001b[0m\u001b[0;34m\u001b[0m\u001b[0;34m\u001b[0m\u001b[0m\n\u001b[0m\u001b[1;32m    117\u001b[0m             \u001b[0mpeek\u001b[0m \u001b[0;34m=\u001b[0m \u001b[0mf\u001b[0m\u001b[0;34m.\u001b[0m\u001b[0mread\u001b[0m\u001b[0;34m(\u001b[0m\u001b[0mpeeksz\u001b[0m\u001b[0;34m)\u001b[0m\u001b[0;34m\u001b[0m\u001b[0;34m\u001b[0m\u001b[0m\n\u001b[1;32m    118\u001b[0m     \u001b[0;32mif\u001b[0m \u001b[0mpeek\u001b[0m \u001b[0;34m==\u001b[0m \u001b[0;34mb\"PK\\x03\\x04\"\u001b[0m\u001b[0;34m:\u001b[0m \u001b[0;31m# a ZIP file\u001b[0m\u001b[0;34m\u001b[0m\u001b[0;34m\u001b[0m\u001b[0m\n",
            "\u001b[0;31mFileNotFoundError\u001b[0m: [Errno 2] No such file or directory: 'assoc_eng2.xlsx'"
          ]
        }
      ]
    },
    {
      "cell_type": "code",
      "metadata": {
        "id": "1D6Qn1dL7yu9",
        "colab": {
          "base_uri": "https://localhost:8080/"
        },
        "outputId": "bb34b266-f6da-4ff4-ef62-99d599841e2f"
      },
      "source": [
        "G = nx.DiGraph()\n",
        "edges = zip(list(net['source']), list(net['target']))\n",
        "G.add_edges_from(edges)\n",
        "print(G.number_of_nodes(), G.number_of_edges())"
      ],
      "execution_count": null,
      "outputs": [
        {
          "output_type": "stream",
          "text": [
            "5019 63629\n"
          ],
          "name": "stdout"
        }
      ]
    },
    {
      "cell_type": "code",
      "metadata": {
        "colab": {
          "base_uri": "https://localhost:8080/"
        },
        "id": "4GDa49w_rFyi",
        "outputId": "3b14e75f-569c-4463-a875-aaea072f1eb9"
      },
      "source": [
        "def bidirectional_edges(G):\n",
        "  edges = set()\n",
        "  nodes = list(G)\n",
        "\n",
        "  for i in range(len(nodes)):\n",
        "    for j in range(i + 1, len(nodes)):\n",
        "      if (G.has_edge(nodes[i], nodes[j]) and G.has_edge(nodes[j], nodes[i])):\n",
        "        edges |= {(nodes[i], nodes[j])}\n",
        "\n",
        "  return edges\n",
        "\n",
        "def count_bidirectional_edges(G):\n",
        "  return len(bidirectional_edges(G))\n",
        "\n",
        "print('Число двунаправленных связей: ', count_bidirectional_edges(G))\n",
        "print('Транзитивность сети: ', nx.transitivity(G))"
      ],
      "execution_count": null,
      "outputs": [
        {
          "output_type": "stream",
          "text": [
            "Число двунаправленных связей:  8383\n",
            "Транзитивность сети:  0.1228734955845273\n"
          ],
          "name": "stdout"
        }
      ]
    },
    {
      "cell_type": "code",
      "metadata": {
        "id": "k4vP7y8lExOA"
      },
      "source": [
        "import random\n",
        "\n",
        "def random_rewiring(G, N_steps):\n",
        "    G_rand = G.copy() \n",
        "       \n",
        "    for n in range(N_steps):\n",
        "        edges = list(G_rand.edges())\n",
        "        \n",
        "        switched = False\n",
        "\n",
        "        while not switched:\n",
        "            e1 = random.choice(edges)\n",
        "            e2 = random.choice(edges)\n",
        "\n",
        "            if (e1[0] == e2[1] or e1[1] == e2[0] or G_rand.has_edge(e1[0], e2[1]) \n",
        "              or G_rand.has_edge(e2[0], e1[1])):\n",
        "                continue\n",
        "            \n",
        "            switched = True\n",
        "\n",
        "            G_rand.add_edge(e1[0], e2[1])\n",
        "            G_rand.add_edge(e2[0], e1[1])\n",
        "            G_rand.remove_edge(*e1)\n",
        "            G_rand.remove_edge(*e2)\n",
        "            \n",
        "    return G_rand\n",
        "\n",
        "    \n",
        "def bd_random_rewiring(G, N_steps):\n",
        "    G_rand = G.copy() \n",
        "       \n",
        "    for n in range(N_steps):\n",
        "        edges = list(G_rand.edges())\n",
        "        \n",
        "        switched = False\n",
        "\n",
        "        def has_bd_edge(u, v):\n",
        "          return G_rand.has_edge(u, v) and G_rand.has_edge(v, u)\n",
        "\n",
        "        while not switched:\n",
        "            e1 = random.choice(edges)\n",
        "            e2 = random.choice(edges)\n",
        "            A, B, C, D = e1[0], e1[1], e2[0], e2[1]\n",
        "\n",
        "            if (A in e2 or B in e2 or G_rand.has_edge(A, D) or \n",
        "                G_rand.has_edge(C, B) or G_rand.has_edge(D, A) or \n",
        "                G_rand.has_edge(B, C)):\n",
        "              continue\n",
        "\n",
        "            switched = True\n",
        "\n",
        "            G_rand.add_edge(A, D)\n",
        "            G_rand.add_edge(C, B)\n",
        "            G_rand.remove_edge(A, B)\n",
        "            G_rand.remove_edge(C, D)\n",
        "\n",
        "            if G_rand.has_edge(D, C):\n",
        "              G_rand.add_edge(D, A)\n",
        "              G_rand.remove_edge(D, C)\n",
        "\n",
        "            if G_rand.has_edge(B, A):\n",
        "              G_rand.add_edge(B, C)\n",
        "              G_rand.remove_edge(B, A)\n",
        "            \n",
        "    return G_rand"
      ],
      "execution_count": null,
      "outputs": []
    },
    {
      "cell_type": "code",
      "metadata": {
        "colab": {
          "base_uri": "https://localhost:8080/"
        },
        "id": "flLEo7YVFKma",
        "outputId": "3c4f2057-9af6-4e4e-b747-d2107e7dadb4"
      },
      "source": [
        "G_rand1 = random_rewiring(G, 1000)\n",
        "\n",
        "print('Число двунаправленных связей рандомизированной сети: ', \n",
        "      count_bidirectional_edges(G_rand1))\n",
        "print('Транзитивность рандомизированной сети: ', nx.transitivity(G_rand1))"
      ],
      "execution_count": null,
      "outputs": [
        {
          "output_type": "stream",
          "text": [
            "Число двунаправленных связей рандомизированной сети:  7860\n",
            "Транзитивность рандомизированной сети:  0.1123812832164775\n"
          ],
          "name": "stdout"
        }
      ]
    },
    {
      "cell_type": "code",
      "metadata": {
        "colab": {
          "base_uri": "https://localhost:8080/"
        },
        "id": "_h4aUPteFJ-8",
        "outputId": "dd19eaaa-3c79-4686-dc6c-cdba37902f0a"
      },
      "source": [
        "G_rand2 = bd_random_rewiring(G, 1000)\n",
        "\n",
        "print('Число двунаправленных связей рандомизированной сети: ', \n",
        "      count_bidirectional_edges(G_rand2))\n",
        "print('Транзитивность рандомизированной сети: ', nx.transitivity(G_rand2))"
      ],
      "execution_count": null,
      "outputs": [
        {
          "output_type": "stream",
          "text": [
            "Число двунаправленных связей рандомизированной сети:  8383\n",
            "Транзитивность рандомизированной сети:  0.1082186633772163\n"
          ],
          "name": "stdout"
        }
      ]
    },
    {
      "cell_type": "code",
      "metadata": {
        "colab": {
          "base_uri": "https://localhost:8080/"
        },
        "id": "RkLd0OmHgLC2",
        "outputId": "c3e1dae4-6ab9-4d3f-d6bc-1ff51822f557"
      },
      "source": [
        "print('Число оставшихся на месте двунаправленных связей: ',\n",
        "      len(bidirectional_edges(G_rand2) & bidirectional_edges(G)))"
      ],
      "execution_count": null,
      "outputs": [
        {
          "output_type": "stream",
          "text": [
            "Число оставшихся на месте двунаправленных связей:  7842\n"
          ],
          "name": "stdout"
        }
      ]
    }
  ]
}